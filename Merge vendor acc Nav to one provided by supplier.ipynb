{
 "cells": [
  {
   "cell_type": "code",
   "execution_count": 49,
   "id": "94ddb1e8",
   "metadata": {},
   "outputs": [],
   "source": [
    "import pandas as pd"
   ]
  },
  {
   "cell_type": "markdown",
   "id": "bdba0ad1",
   "metadata": {},
   "source": [
    "Read required files to Pandas"
   ]
  },
  {
   "cell_type": "code",
   "execution_count": 50,
   "id": "fbaf9311",
   "metadata": {},
   "outputs": [],
   "source": [
    "df = pd.read_excel('K:\\EOIN\\Accounts\\Year ended to Jan 2022\\Audit\\Creditors\\M1.xlsx')\n",
    "df1 = pd.read_excel('K:\\EOIN\\Accounts\\Year ended to Jan 2022\\Audit\\Creditors\\M2.xlsx')\n"
   ]
  },
  {
   "cell_type": "code",
   "execution_count": 51,
   "id": "2ff332b8",
   "metadata": {},
   "outputs": [
    {
     "data": {
      "text/plain": [
       "Posting Date             datetime64[ns]\n",
       "Document Date            datetime64[ns]\n",
       "Document Type                    object\n",
       "Document No.                     object\n",
       "External Document No.            object\n",
       "Vendor No.                       object\n",
       "Description                      object\n",
       "Currency Code                   float64\n",
       "Amount                          float64\n",
       "Remaining Amount                float64\n",
       "Due Date                 datetime64[ns]\n",
       "Entry No.                         int64\n",
       "Amount (LCY)                    float64\n",
       "Original Amt. (LCY)             float64\n",
       "Remaining Amt. (LCY)            float64\n",
       "dtype: object"
      ]
     },
     "execution_count": 51,
     "metadata": {},
     "output_type": "execute_result"
    }
   ],
   "source": [
    "df.dtypes"
   ]
  },
  {
   "cell_type": "code",
   "execution_count": 52,
   "id": "c7a1f4e9",
   "metadata": {},
   "outputs": [
    {
     "data": {
      "text/plain": [
       "Doc Type                         object\n",
       "Customer Number                 float64\n",
       "Invoice Date             datetime64[ns]\n",
       "Due Date                 datetime64[ns]\n",
       "Date Closed              datetime64[ns]\n",
       "External Document No.           float64\n",
       "Remark                           object\n",
       "Reference                        object\n",
       "Amount Open                     float64\n",
       "Foreign Amount                  float64\n",
       "dtype: object"
      ]
     },
     "execution_count": 52,
     "metadata": {},
     "output_type": "execute_result"
    }
   ],
   "source": [
    "df1.dtypes"
   ]
  },
  {
   "cell_type": "markdown",
   "id": "d73e19c5",
   "metadata": {},
   "source": [
    "On dataframe df1 convert External Document No. column from float to string.\n",
    "Also remove .0 at end of (now) string to enable clean merge/comparison with dataframe df."
   ]
  },
  {
   "cell_type": "code",
   "execution_count": 53,
   "id": "aa10b790",
   "metadata": {},
   "outputs": [],
   "source": [
    "df1['External Document No.']=df1['External Document No.'].astype(str).replace('\\.0', '', regex=True)\n"
   ]
  },
  {
   "cell_type": "code",
   "execution_count": 54,
   "id": "b94ec0fd",
   "metadata": {},
   "outputs": [],
   "source": [
    "df['External Document No.']=df['External Document No.'].astype(str)"
   ]
  },
  {
   "cell_type": "code",
   "execution_count": 55,
   "id": "514f8692",
   "metadata": {},
   "outputs": [
    {
     "data": {
      "text/plain": [
       "Posting Date             datetime64[ns]\n",
       "Document Date            datetime64[ns]\n",
       "Document Type                    object\n",
       "Document No.                     object\n",
       "External Document No.            object\n",
       "Vendor No.                       object\n",
       "Description                      object\n",
       "Currency Code                   float64\n",
       "Amount                          float64\n",
       "Remaining Amount                float64\n",
       "Due Date                 datetime64[ns]\n",
       "Entry No.                         int64\n",
       "Amount (LCY)                    float64\n",
       "Original Amt. (LCY)             float64\n",
       "Remaining Amt. (LCY)            float64\n",
       "dtype: object"
      ]
     },
     "execution_count": 55,
     "metadata": {},
     "output_type": "execute_result"
    }
   ],
   "source": [
    "df.dtypes"
   ]
  },
  {
   "cell_type": "markdown",
   "id": "dba01183",
   "metadata": {},
   "source": [
    "Now that columns 'External Document No.' are in correct string format for both dataframes (df and df1) it is possible to merge them cleanly."
   ]
  },
  {
   "cell_type": "code",
   "execution_count": 59,
   "id": "bbadea4d",
   "metadata": {},
   "outputs": [],
   "source": [
    "Final=pd.merge(df, df1, how=\"outer\", on= 'External Document No.')"
   ]
  },
  {
   "cell_type": "code",
   "execution_count": 60,
   "id": "0b014a44",
   "metadata": {},
   "outputs": [],
   "source": [
    "Final.to_excel('mergedfdf1.xlsx')"
   ]
  }
 ],
 "metadata": {
  "kernelspec": {
   "display_name": "Python 3 (ipykernel)",
   "language": "python",
   "name": "python3"
  },
  "language_info": {
   "codemirror_mode": {
    "name": "ipython",
    "version": 3
   },
   "file_extension": ".py",
   "mimetype": "text/x-python",
   "name": "python",
   "nbconvert_exporter": "python",
   "pygments_lexer": "ipython3",
   "version": "3.9.7"
  }
 },
 "nbformat": 4,
 "nbformat_minor": 5
}
